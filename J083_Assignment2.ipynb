{
 "cells": [
  {
   "cell_type": "markdown",
   "metadata": {},
   "source": [
    "# Star Classification Dataset"
   ]
  },
  {
   "cell_type": "code",
   "execution_count": 1,
   "metadata": {
    "id": "pMt67KTWVoeU"
   },
   "outputs": [],
   "source": [
    "import numpy as np\n",
    "import pandas as pd\n",
    "import matplotlib.pyplot as plt\n",
    "import seaborn as sns\n",
    "\n",
    "from sklearn.model_selection import train_test_split\n",
    "from sklearn.preprocessing import StandardScaler\n",
    "from sklearn.ensemble import RandomForestClassifier\n",
    "from sklearn.metrics import classification_report, confusion_matrix\n"
   ]
  },
  {
   "cell_type": "code",
   "execution_count": 2,
   "metadata": {
    "colab": {
     "base_uri": "https://localhost:8080/",
     "height": 261
    },
    "id": "X79ddLDtVziV",
    "outputId": "b0aea2f1-3717-4a93-c02d-6eaa56a1f38c"
   },
   "outputs": [
    {
     "name": "stderr",
     "output_type": "stream",
     "text": [
      "C:\\Users\\itssp\\AppData\\Local\\Temp\\ipykernel_5996\\1288883801.py:1: DtypeWarning: Columns (1,8) have mixed types. Specify dtype option on import or set low_memory=False.\n",
      "  df= pd.read_csv(\"data/star.csv\")\n"
     ]
    },
    {
     "data": {
      "text/html": [
       "<div>\n",
       "<style scoped>\n",
       "    .dataframe tbody tr th:only-of-type {\n",
       "        vertical-align: middle;\n",
       "    }\n",
       "\n",
       "    .dataframe tbody tr th {\n",
       "        vertical-align: top;\n",
       "    }\n",
       "\n",
       "    .dataframe thead th {\n",
       "        text-align: right;\n",
       "    }\n",
       "</style>\n",
       "<table border=\"1\" class=\"dataframe\">\n",
       "  <thead>\n",
       "    <tr style=\"text-align: right;\">\n",
       "      <th></th>\n",
       "      <th>object_ID</th>\n",
       "      <th>alpha</th>\n",
       "      <th>delta</th>\n",
       "      <th>UV_filter</th>\n",
       "      <th>green_filter</th>\n",
       "      <th>red_filter</th>\n",
       "      <th>near_IR_filter</th>\n",
       "      <th>IR_filter</th>\n",
       "      <th>run_ID</th>\n",
       "      <th>rerun_ID</th>\n",
       "      <th>cam_col</th>\n",
       "      <th>field_ID</th>\n",
       "      <th>spec_obj_ID</th>\n",
       "      <th>red_shift</th>\n",
       "      <th>plate_ID</th>\n",
       "      <th>MJD</th>\n",
       "      <th>fiber_ID</th>\n",
       "      <th>class</th>\n",
       "    </tr>\n",
       "  </thead>\n",
       "  <tbody>\n",
       "    <tr>\n",
       "      <th>0</th>\n",
       "      <td>1.240000e+18</td>\n",
       "      <td>135.6891066</td>\n",
       "      <td>32.494632</td>\n",
       "      <td>23.87882</td>\n",
       "      <td>22.27530</td>\n",
       "      <td>20.39501</td>\n",
       "      <td>19.16573</td>\n",
       "      <td>18.79371</td>\n",
       "      <td>3606</td>\n",
       "      <td>301</td>\n",
       "      <td>2</td>\n",
       "      <td>79</td>\n",
       "      <td>6.540000e+18</td>\n",
       "      <td>0.634794</td>\n",
       "      <td>5812</td>\n",
       "      <td>56354</td>\n",
       "      <td>171</td>\n",
       "      <td>GALAXY</td>\n",
       "    </tr>\n",
       "    <tr>\n",
       "      <th>1</th>\n",
       "      <td>1.240000e+18</td>\n",
       "      <td>144.8261006</td>\n",
       "      <td>31.274185</td>\n",
       "      <td>24.77759</td>\n",
       "      <td>22.83188</td>\n",
       "      <td>22.58444</td>\n",
       "      <td>21.16812</td>\n",
       "      <td>21.61427</td>\n",
       "      <td>4518</td>\n",
       "      <td>301</td>\n",
       "      <td>5</td>\n",
       "      <td>119</td>\n",
       "      <td>1.180000e+19</td>\n",
       "      <td>0.779136</td>\n",
       "      <td>10445</td>\n",
       "      <td>58158</td>\n",
       "      <td>427</td>\n",
       "      <td>GALAXY</td>\n",
       "    </tr>\n",
       "    <tr>\n",
       "      <th>2</th>\n",
       "      <td>1.240000e+18</td>\n",
       "      <td>142.1887896</td>\n",
       "      <td>35.582444</td>\n",
       "      <td>25.26307</td>\n",
       "      <td>22.66389</td>\n",
       "      <td>20.60976</td>\n",
       "      <td>19.34857</td>\n",
       "      <td>18.94827</td>\n",
       "      <td>3606</td>\n",
       "      <td>301</td>\n",
       "      <td>2</td>\n",
       "      <td>120</td>\n",
       "      <td>5.150000e+18</td>\n",
       "      <td>0.644195</td>\n",
       "      <td>4576</td>\n",
       "      <td>55592</td>\n",
       "      <td>299</td>\n",
       "      <td>GALAXY</td>\n",
       "    </tr>\n",
       "    <tr>\n",
       "      <th>3</th>\n",
       "      <td>1.240000e+18</td>\n",
       "      <td>338.7410378</td>\n",
       "      <td>-0.402828</td>\n",
       "      <td>22.13682</td>\n",
       "      <td>23.77656</td>\n",
       "      <td>21.61162</td>\n",
       "      <td>20.50454</td>\n",
       "      <td>19.25010</td>\n",
       "      <td>4192</td>\n",
       "      <td>301</td>\n",
       "      <td>3</td>\n",
       "      <td>214</td>\n",
       "      <td>1.030000e+19</td>\n",
       "      <td>0.932346</td>\n",
       "      <td>9149</td>\n",
       "      <td>58039</td>\n",
       "      <td>775</td>\n",
       "      <td>GALAXY</td>\n",
       "    </tr>\n",
       "    <tr>\n",
       "      <th>4</th>\n",
       "      <td>1.240000e+18</td>\n",
       "      <td>345.2825932</td>\n",
       "      <td>21.183866</td>\n",
       "      <td>19.43718</td>\n",
       "      <td>17.58028</td>\n",
       "      <td>16.49747</td>\n",
       "      <td>15.97711</td>\n",
       "      <td>15.54461</td>\n",
       "      <td>NaN</td>\n",
       "      <td>301</td>\n",
       "      <td>3</td>\n",
       "      <td>137</td>\n",
       "      <td>6.890000e+18</td>\n",
       "      <td>0.116123</td>\n",
       "      <td>6121</td>\n",
       "      <td>56187</td>\n",
       "      <td>842</td>\n",
       "      <td>GALAXY</td>\n",
       "    </tr>\n",
       "  </tbody>\n",
       "</table>\n",
       "</div>"
      ],
      "text/plain": [
       "      object_ID        alpha      delta  UV_filter  green_filter  red_filter  \\\n",
       "0  1.240000e+18  135.6891066  32.494632   23.87882      22.27530    20.39501   \n",
       "1  1.240000e+18  144.8261006  31.274185   24.77759      22.83188    22.58444   \n",
       "2  1.240000e+18  142.1887896  35.582444   25.26307      22.66389    20.60976   \n",
       "3  1.240000e+18  338.7410378  -0.402828   22.13682      23.77656    21.61162   \n",
       "4  1.240000e+18  345.2825932  21.183866   19.43718      17.58028    16.49747   \n",
       "\n",
       "   near_IR_filter  IR_filter run_ID  rerun_ID  cam_col  field_ID  \\\n",
       "0        19.16573   18.79371   3606       301        2        79   \n",
       "1        21.16812   21.61427   4518       301        5       119   \n",
       "2        19.34857   18.94827   3606       301        2       120   \n",
       "3        20.50454   19.25010   4192       301        3       214   \n",
       "4        15.97711   15.54461    NaN       301        3       137   \n",
       "\n",
       "    spec_obj_ID  red_shift  plate_ID    MJD  fiber_ID   class  \n",
       "0  6.540000e+18   0.634794      5812  56354       171  GALAXY  \n",
       "1  1.180000e+19   0.779136     10445  58158       427  GALAXY  \n",
       "2  5.150000e+18   0.644195      4576  55592       299  GALAXY  \n",
       "3  1.030000e+19   0.932346      9149  58039       775  GALAXY  \n",
       "4  6.890000e+18   0.116123      6121  56187       842  GALAXY  "
      ]
     },
     "execution_count": 2,
     "metadata": {},
     "output_type": "execute_result"
    }
   ],
   "source": [
    "df= pd.read_csv(\"data/star.csv\")\n",
    "\n",
    "df.head()"
   ]
  },
  {
   "cell_type": "code",
   "execution_count": 3,
   "metadata": {
    "colab": {
     "base_uri": "https://localhost:8080/"
    },
    "id": "_RMyRp1tWOPM",
    "outputId": "3bac2bd3-528b-46db-ae0e-543550abcbba"
   },
   "outputs": [
    {
     "data": {
      "text/plain": [
       "object_ID         0\n",
       "alpha             1\n",
       "delta             2\n",
       "UV_filter         0\n",
       "green_filter      0\n",
       "red_filter        0\n",
       "near_IR_filter    0\n",
       "IR_filter         0\n",
       "run_ID            6\n",
       "rerun_ID          0\n",
       "cam_col           0\n",
       "field_ID          0\n",
       "spec_obj_ID       0\n",
       "red_shift         0\n",
       "plate_ID          0\n",
       "MJD               0\n",
       "fiber_ID          0\n",
       "class             0\n",
       "dtype: int64"
      ]
     },
     "execution_count": 3,
     "metadata": {},
     "output_type": "execute_result"
    }
   ],
   "source": [
    "df.isnull().sum()"
   ]
  },
  {
   "cell_type": "code",
   "execution_count": 4,
   "metadata": {
    "id": "fpKGK8-0XEBB"
   },
   "outputs": [],
   "source": [
    "X = df.drop(columns=['class', 'object_ID', 'spec_obj_ID', 'plate_ID', 'fiber_ID'])\n",
    "y = df['class']"
   ]
  },
  {
   "cell_type": "code",
   "execution_count": 5,
   "metadata": {
    "colab": {
     "base_uri": "https://localhost:8080/"
    },
    "id": "qV8dMns1Yo--",
    "outputId": "6ee93914-d109-42a7-d2ad-924aaedddf4a"
   },
   "outputs": [
    {
     "name": "stdout",
     "output_type": "stream",
     "text": [
      "Column 'alpha' has data types: [<class 'str'> <class 'float'>]\n",
      "Column 'delta' has data types: [<class 'float'>]\n",
      "Column 'UV_filter' has data types: [<class 'float'>]\n",
      "Column 'green_filter' has data types: [<class 'float'>]\n",
      "Column 'red_filter' has data types: [<class 'float'>]\n",
      "Column 'near_IR_filter' has data types: [<class 'float'>]\n",
      "Column 'IR_filter' has data types: [<class 'float'>]\n",
      "Column 'run_ID' has data types: [<class 'str'> <class 'float'> <class 'int'>]\n",
      "Column 'rerun_ID' has data types: [<class 'int'>]\n",
      "Column 'cam_col' has data types: [<class 'int'>]\n",
      "Column 'field_ID' has data types: [<class 'int'>]\n",
      "Column 'red_shift' has data types: [<class 'float'>]\n",
      "Column 'MJD' has data types: [<class 'int'>]\n"
     ]
    }
   ],
   "source": [
    "for col in X.columns:\n",
    "    unique_types = X[col].map(type).unique()\n",
    "    print(f\"Column '{col}' has data types: {unique_types}\")"
   ]
  },
  {
   "cell_type": "code",
   "execution_count": 6,
   "metadata": {
    "id": "8VN6TwVMYpDV"
   },
   "outputs": [],
   "source": [
    "for col in X.columns:\n",
    "    X[col] = pd.to_numeric(X[col], errors='coerce')\n",
    "\n",
    "X.fillna(X.mean(), inplace=True)"
   ]
  },
  {
   "cell_type": "code",
   "execution_count": 7,
   "metadata": {
    "id": "DB48JQQPYpFN"
   },
   "outputs": [],
   "source": [
    "from sklearn.preprocessing import LabelEncoder\n",
    "\n",
    "for col in X.select_dtypes(include=['object']).columns:\n",
    "    X[col] = LabelEncoder().fit_transform(X[col])\n",
    "\n",
    "scaler = StandardScaler()\n",
    "X_scaled = scaler.fit_transform(X)"
   ]
  },
  {
   "cell_type": "code",
   "execution_count": 8,
   "metadata": {
    "colab": {
     "base_uri": "https://localhost:8080/"
    },
    "id": "cuT0NeZyYG4u",
    "outputId": "f9637732-62be-47f7-d0a0-7d1d1705fbb5"
   },
   "outputs": [],
   "source": [
    "X_train, X_test, y_train, y_test = train_test_split(\n",
    "    X_scaled, y, test_size=0.2, stratify=y, random_state=42\n",
    ")"
   ]
  },
  {
   "cell_type": "code",
   "execution_count": 9,
   "metadata": {
    "id": "tP2V2WGVY4Gz"
   },
   "outputs": [
    {
     "name": "stdout",
     "output_type": "stream",
     "text": [
      "              precision    recall  f1-score   support\n",
      "\n",
      "      GALAXY       0.98      0.99      0.98     11889\n",
      "         QSO       0.97      0.93      0.95      3792\n",
      "        STAR       0.99      1.00      1.00      4319\n",
      "\n",
      "    accuracy                           0.98     20000\n",
      "   macro avg       0.98      0.97      0.98     20000\n",
      "weighted avg       0.98      0.98      0.98     20000\n",
      "\n"
     ]
    }
   ],
   "source": [
    "clf = RandomForestClassifier(n_estimators=100, random_state=42)\n",
    "clf.fit(X_train, y_train)\n",
    "\n",
    "y_pred = clf.predict(X_test)\n",
    "print(classification_report(y_test, y_pred))"
   ]
  },
  {
   "cell_type": "code",
   "execution_count": 10,
   "metadata": {
    "colab": {
     "base_uri": "https://localhost:8080/",
     "height": 410
    },
    "id": "ClarmK7uaW4p",
    "outputId": "7458c94d-4b90-4e28-e2e2-6475e3f25c2d"
   },
   "outputs": [
    {
     "data": {
      "image/png": "[encoded data removed]",
      "text/plain": [
       "<Figure size 600x400 with 2 Axes>"
      ]
     },
     "metadata": {},
     "output_type": "display_data"
    }
   ],
   "source": [
    "cm = confusion_matrix(y_test, y_pred)\n",
    "\n",
    "plt.figure(figsize=(6,4))\n",
    "sns.heatmap(cm, annot=True, fmt=\"d\", cmap=\"Blues\", xticklabels=np.unique(y), yticklabels=np.unique(y))\n",
    "plt.xlabel('Predicted Label')\n",
    "plt.ylabel('True Label')\n",
    "plt.title('Confusion Matrix')\n",
    "plt.show()"
   ]
  },
  {
   "cell_type": "markdown",
   "metadata": {},
   "source": [
    "## Analysis of the Classification Report  \n",
    "\n",
    "The model demonstrates strong performance with an overall accuracy of 98%, indicating its effectiveness on the dataset. Below are key insights:\n",
    "\n",
    "### Class-wise Performance:\n",
    "\n",
    "**GALAXY:**  \n",
    "- **Precision:** 0.98 (Minimal incorrect classifications)  \n",
    "- **Recall:** 0.99 (Most galaxies are correctly identified)  \n",
    "- **F1-score:** 0.98 (Well-balanced precision and recall)  \n",
    "\n",
    "**QSO (Quasi-Stellar Objects):**  \n",
    "- **Precision:** 0.97 (Few incorrect classifications)  \n",
    "- **Recall:** 0.93 (Some QSOs are misclassified into other categories)  \n",
    "- **F1-score:** 0.95 (Lower than GALAXY and STAR due to recall)  \n",
    "\n",
    "**STAR:**  \n",
    "- **Precision:** 0.99 (Almost no incorrect classifications)  \n",
    "- **Recall:** 1.00 (All stars correctly identified)  \n",
    "- **F1-score:** 1.00 (Ideal classification performance)  \n",
    "\n",
    "### Impact of Class Imbalance:\n",
    "\n",
    "The dataset contains more galaxies (11,889) compared to QSOs (3,792) and stars (4,319).  \n",
    "This imbalance may contribute to the lower recall (0.93) for QSOs, as the model might find it more challenging to classify the less frequent classes accurately.  \n",
    "\n",
    "### Macro vs. Weighted Averages:\n",
    "\n",
    "- **Macro average (equal weight for all classes):** Precision 0.98, Recall 0.97, F1-score 0.98  \n",
    "- **Weighted average (adjusted for class distribution):** Precision 0.98, Recall 0.98, F1-score 0.98  \n",
    "\n",
    "Since both metrics are closely aligned, the model does not show significant bias toward the majority class."
   ]
  },
  {
   "cell_type": "markdown",
   "metadata": {
    "id": "E0Du7dIza_25"
   },
   "source": [
    "# California Housing Prices"
   ]
  },
  {
   "cell_type": "code",
   "execution_count": 11,
   "metadata": {},
   "outputs": [],
   "source": [
    "import numpy as np\n",
    "import pandas as pd\n",
    "import math\n",
    "from sklearn.model_selection import train_test_split\n",
    "from sklearn.preprocessing import StandardScaler\n",
    "from sklearn.linear_model import Ridge, Lasso\n",
    "from sklearn.metrics import mean_absolute_error, mean_squared_error\n",
    "from sklearn.datasets import fetch_california_housing"
   ]
  },
  {
   "cell_type": "code",
   "execution_count": 12,
   "metadata": {},
   "outputs": [],
   "source": [
    "data = fetch_california_housing()\n",
    "df1 = pd.DataFrame(data.data, columns=data.feature_names)\n",
    "df1['Price'] = data.target"
   ]
  },
  {
   "cell_type": "code",
   "execution_count": 13,
   "metadata": {},
   "outputs": [],
   "source": [
    "num_bins = math.ceil(1 + np.log2(len(df1)))\n",
    "\n",
    "df1['Price_Bin'] = pd.qcut(df1['Price'], q=num_bins, labels=False)"
   ]
  },
  {
   "cell_type": "code",
   "execution_count": 14,
   "metadata": {},
   "outputs": [],
   "source": [
    "X = df1.drop(columns=['Price', 'Price_Bin'])\n",
    "y = df1['Price']\n",
    "\n",
    "X_train, X_test, y_train, y_test = train_test_split(\n",
    "    X, y, test_size=0.2, stratify=df1['Price_Bin'], random_state=42\n",
    ")\n",
    "\n",
    "df1.drop(columns=['Price_Bin'], inplace=True)"
   ]
  },
  {
   "cell_type": "code",
   "execution_count": 15,
   "metadata": {},
   "outputs": [],
   "source": [
    "scaler = StandardScaler()\n",
    "X_train_scaled = scaler.fit_transform(X_train)\n",
    "X_test_scaled = scaler.transform(X_test)"
   ]
  },
  {
   "cell_type": "code",
   "execution_count": 16,
   "metadata": {},
   "outputs": [],
   "source": [
    "ridge_model = Ridge(alpha=1.0)\n",
    "ridge_model.fit(X_train_scaled, y_train)\n",
    "ridge_preds = ridge_model.predict(X_test_scaled)"
   ]
  },
  {
   "cell_type": "code",
   "execution_count": 17,
   "metadata": {},
   "outputs": [],
   "source": [
    "lasso_model = Lasso(alpha=0.1)\n",
    "lasso_model.fit(X_train_scaled, y_train)\n",
    "lasso_preds = lasso_model.predict(X_test_scaled)"
   ]
  },
  {
   "cell_type": "code",
   "execution_count": 18,
   "metadata": {
    "colab": {
     "base_uri": "https://localhost:8080/"
    },
    "id": "c6xf5fJybIM1",
    "outputId": "9c66c92e-4cbc-435e-96cc-cb1221b7862d"
   },
   "outputs": [
    {
     "name": "stdout",
     "output_type": "stream",
     "text": [
      "\n",
      "Ridge Regression Evaluation:\n",
      "MAE  = 0.5405\n",
      "MSE  = 0.5397\n",
      "RMSE = 0.7346\n",
      "\n",
      "Lasso Regression Evaluation:\n",
      "MAE  = 0.6254\n",
      "MSE  = 0.6900\n",
      "RMSE = 0.8307\n"
     ]
    }
   ],
   "source": [
    "def evaluate_model(y_true, y_pred, model_name):\n",
    "    mae = mean_absolute_error(y_true, y_pred)\n",
    "    mse = mean_squared_error(y_true, y_pred)\n",
    "    rmse = np.sqrt(mse)\n",
    "\n",
    "    print(f\"\\n{model_name} Evaluation:\")\n",
    "    print(f\"MAE  = {mae:.4f}\")\n",
    "    print(f\"MSE  = {mse:.4f}\")\n",
    "    print(f\"RMSE = {rmse:.4f}\")\n",
    "\n",
    "    return mae, mse, rmse\n",
    "\n",
    "ridge_metrics = evaluate_model(y_test, ridge_preds, \"Ridge Regression\")\n",
    "lasso_metrics = evaluate_model(y_test, lasso_preds, \"Lasso Regression\")"
   ]
  },
  {
   "cell_type": "markdown",
   "metadata": {
    "id": "b8w7rgVocli4"
   },
   "source": [
    "## Comparison of Ridge vs. Lasso Regression  \n",
    "\n",
    "### **Ridge Regression (Lower Errors, Better Fit)**  \n",
    "- **MAE:** 0.5405 (Lower, indicating more accurate predictions)  \n",
    "- **MSE:** 0.5397 (Lower, suggesting fewer significant errors)  \n",
    "- **RMSE:** 0.7346 (Lower, reflecting a better overall model fit)  \n",
    "\n",
    "### **Lasso Regression (Higher Errors, Less Accurate Fit)**  \n",
    "- **MAE:** 0.6254 (Higher, indicating reduced accuracy)  \n",
    "- **MSE:** 0.6900 (Higher, implying more large errors)  \n",
    "- **RMSE:** 0.8307 (Higher, showing a poorer overall fit)  \n",
    "\n",
    "### **Key Insights:**  \n",
    "1. **Ridge Regression outperformed Lasso** across all metrics, effectively retaining valuable features while preventing overfitting.  \n",
    "2. **Lasso Regression resulted in higher errors**, likely due to some coefficients being reduced to zero, which may have led to the loss of important information.  \n",
    "3. If **feature selection is a priority**, Lasso can be beneficial despite its increased error. However, for **better predictive accuracy**, Ridge is the more suitable option."
   ]
  }
 ],
 "metadata": {
  "colab": {
   "provenance": []
  },
  "kernelspec": {
   "display_name": "Python 3 (ipykernel)",
   "language": "python",
   "name": "python3"
  },
  "language_info": {
   "codemirror_mode": {
    "name": "ipython",
    "version": 3
   },
   "file_extension": ".py",
   "mimetype": "text/x-python",
   "name": "python",
   "nbconvert_exporter": "python",
   "pygments_lexer": "ipython3",
   "version": "3.11.5"
  }
 },
 "nbformat": 4,
 "nbformat_minor": 1
}
